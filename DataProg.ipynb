{
 "cells": [
  {
   "cell_type": "markdown",
   "id": "12817995",
   "metadata": {},
   "source": [
    "# Global Cost of Living"
   ]
  },
  {
   "cell_type": "markdown",
   "id": "cae1bcba",
   "metadata": {},
   "source": [
    "## 1. Aim, Objectives and Background"
   ]
  },
  {
   "cell_type": "markdown",
   "id": "8d49371f",
   "metadata": {},
   "source": [
    "## 1.1 Introduction"
   ]
  },
  {
   "cell_type": "markdown",
   "id": "167ead04",
   "metadata": {},
   "source": [
    "The cost of living is an important factor that affects the quality of life and financial well-being of individuals and families. It is influenced by a variety of factors, including the prices of goods and services, housing costs and the overall level of economic development in a particular location.\n",
    "\n",
    "I decided to focus this research study on the various factors that influence the cost of living in different countries and cities, mainly focusing on the relationship between the average monthly salary and the different expenditures one person might have. Through this study, we can also determine the country with lowest cost of living, based on a select few factors.\n",
    "\n",
    "The focus will be on average monthly salary as that is the source of income for all individuals and families which pays for the costs of living factors."
   ]
  },
  {
   "cell_type": "markdown",
   "id": "5d13f1c2",
   "metadata": {},
   "source": [
    "## 1.2 Aims and objectives"
   ]
  },
  {
   "cell_type": "markdown",
   "id": "4a0dd302",
   "metadata": {},
   "source": [
    "To examine the correlation between the average monthly salary and average cost of living in various countries, and to assess the degree to which salary levels vary based on differences in the cost of living. \n",
    "To provide insight into the relationship between salary and cost of living, the economic well-being of residents in different countries.\n",
    "\n",
    "The aim of this research will be to understand the relationships between the average monthly salary and the average cost of living in different countries. The data should be cleaned to allow utilisation of techniques later. Identify trends within the data with further analysis."
   ]
  },
  {
   "cell_type": "markdown",
   "id": "551f04d9",
   "metadata": {},
   "source": [
    "This study is relevant as the economic well-being affects every individual and might provide some insight on the relationship between salary and various cost factors. \n",
    "\n",
    "From a logical point of view, the average monthly salary must be sufficient for an individual to afford the costs of living in the city of residence. The analysis later in the report should support this hypothesis. \n",
    "The research will mainly focus on the average monthly salary as a comparison to other factors in the dataset such as cost for basic necessities and food. This is because some of the data is more of an luxury compared to necessities. For example, a fitness club membership or alcohol."
   ]
  },
  {
   "cell_type": "markdown",
   "id": "353dca0e",
   "metadata": {},
   "source": [
    "## 2. Data"
   ]
  },
  {
   "cell_type": "markdown",
   "id": "ca51e75c",
   "metadata": {},
   "source": [
    "### 2.1 Data Requirement"
   ]
  },
  {
   "cell_type": "markdown",
   "id": "a0331a63",
   "metadata": {},
   "source": [
    "Three potential datasets were chosen. All 3 are csv data are found on (https://www.kaggle.com). The different datasets are relevant to the study objective as they provide various countries, average monthly salary in the csv data file. The contents in the datafiles differs slightly.\n",
    "\n",
    "The datasets are from Numbeo(https://www.numbeo.com), a crowd-sourced global database, which means the data from the dataset is provided by the contributors to the global database. As written on the numbeo website, there are more than 700,000 contributors from 11,000+ cities.\n",
    "The other data is gathered from NationMaster(https://www.nationmaster.com), the data is gathered through a survey by Numbeo.com from May 2011, to February 2014. "
   ]
  },
  {
   "cell_type": "markdown",
   "id": "0c09fc80",
   "metadata": {},
   "source": [
    "#### 2.1.1 Dataset Choice"
   ]
  },
  {
   "cell_type": "markdown",
   "id": "fa8c7762",
   "metadata": {},
   "source": [
    "Dataset 'Avg monthly salary' contains the country and average monthly salary but has no cost of living factors to directly compare with to find any correlation between the data.\n",
    "The other 2 dataset 'Cost_of_living_v2' and 'Cost_of_Living_Index_2022' were gathered by scraping from Numbeo's website.\n",
    "The contents differ as 'Cost_of_living_v2' provides more raw data and 'Cost_of_Living_Index_2022' uses the cost of living index that Numbeo uses, it compares the cost of living index which is relative to New York City(NYC) according to Numbeo. If the index is higher at 120%, it means that the average price is 20% higher in that country than in NYC.\n",
    "\n",
    "\n",
    "To choose between the 3 potential dataset, some pros and cons of each dataset will be examined.\n",
    "\n",
    "Dataset 'Avg monthly salary'\n",
    "\n",
    "Pros\n",
    "* Tidy and simple data\n",
    "\n",
    "Cons\n",
    "* Does not contain a lot of data to conduct quality analysis\n",
    "\n",
    "Dataset 'Cost_of_living_v2'\n",
    "\n",
    "Pros\n",
    "* Lots of data for analysis\n",
    "\n",
    "Cons\n",
    "* Not all data will be necessary for analysis\n",
    "\n",
    "Dataset 'Cost_of_Living_Index_2022'\n",
    "\n",
    "Pros\n",
    "* Data is good for comparision\n",
    "\n",
    "Cons\n",
    "* Dataset might be too small"
   ]
  },
  {
   "cell_type": "markdown",
   "id": "b8f38905",
   "metadata": {},
   "source": [
    "The data that I selected for this project is 'Cost_of_living_v2', the dataset contains information about the cost of living in many countries around the world. With more raw data and more factors to choose from, we will have more freedom and be able to filter and choose which data is more relevant."
   ]
  },
  {
   "cell_type": "code",
   "execution_count": 1,
   "id": "8e06c97f",
   "metadata": {},
   "outputs": [],
   "source": [
    "#libraries used\n",
    "import pandas as pd\n",
    "import matplotlib.pyplot as plt\n",
    "import warnings\n",
    "warnings.filterwarnings(\"ignore\")"
   ]
  },
  {
   "cell_type": "markdown",
   "id": "ccb088fa",
   "metadata": {},
   "source": [
    "### 2.2 Data acquisition"
   ]
  },
  {
   "cell_type": "markdown",
   "id": "67b75d5d",
   "metadata": {},
   "source": [
    "The data consist of various headers such as the name of the city, name of the country, meal for inexpensive restaurant, average monthly net salary (After Tax), to name a few. The csv file column header uses x1, x2 .... to represent the various types of data collected. The column headers are as shown in the table below:"
   ]
  },
  {
   "cell_type": "code",
   "execution_count": 2,
   "id": "b31c2814",
   "metadata": {},
   "outputs": [
    {
     "data": {
      "text/html": [
       "<div>\n",
       "<style scoped>\n",
       "    .dataframe tbody tr th:only-of-type {\n",
       "        vertical-align: middle;\n",
       "    }\n",
       "\n",
       "    .dataframe tbody tr th {\n",
       "        vertical-align: top;\n",
       "    }\n",
       "\n",
       "    .dataframe thead th {\n",
       "        text-align: right;\n",
       "    }\n",
       "</style>\n",
       "<table border=\"1\" class=\"dataframe\">\n",
       "  <thead>\n",
       "    <tr style=\"text-align: right;\">\n",
       "      <th></th>\n",
       "      <th>Description</th>\n",
       "    </tr>\n",
       "    <tr>\n",
       "      <th>Column</th>\n",
       "      <th></th>\n",
       "    </tr>\n",
       "  </thead>\n",
       "  <tbody>\n",
       "    <tr>\n",
       "      <th>city</th>\n",
       "      <td>Name of the city</td>\n",
       "    </tr>\n",
       "    <tr>\n",
       "      <th>country</th>\n",
       "      <td>Name of the country</td>\n",
       "    </tr>\n",
       "    <tr>\n",
       "      <th>x1</th>\n",
       "      <td>Meal, Inexpensive Restaurant (USD)</td>\n",
       "    </tr>\n",
       "    <tr>\n",
       "      <th>x2</th>\n",
       "      <td>Meal for 2 People, Mid-range Restaurant, Three...</td>\n",
       "    </tr>\n",
       "    <tr>\n",
       "      <th>x3</th>\n",
       "      <td>McMeal at McDonalds (or Equivalent Combo Meal)...</td>\n",
       "    </tr>\n",
       "    <tr>\n",
       "      <th>x4</th>\n",
       "      <td>Domestic Beer (0.5 liter draught, in restauran...</td>\n",
       "    </tr>\n",
       "    <tr>\n",
       "      <th>x5</th>\n",
       "      <td>Imported Beer (0.33 liter bottle, in restauran...</td>\n",
       "    </tr>\n",
       "    <tr>\n",
       "      <th>x6</th>\n",
       "      <td>Cappuccino (regular, in restaurants) (USD)</td>\n",
       "    </tr>\n",
       "    <tr>\n",
       "      <th>x7</th>\n",
       "      <td>Coke/Pepsi (0.33 liter bottle, in restaurants)...</td>\n",
       "    </tr>\n",
       "    <tr>\n",
       "      <th>x8</th>\n",
       "      <td>Water (0.33 liter bottle, in restaurants) (USD)</td>\n",
       "    </tr>\n",
       "    <tr>\n",
       "      <th>x9</th>\n",
       "      <td>Milk (regular), (1 liter) (USD)</td>\n",
       "    </tr>\n",
       "    <tr>\n",
       "      <th>x10</th>\n",
       "      <td>Loaf of Fresh White Bread (500g) (USD)</td>\n",
       "    </tr>\n",
       "    <tr>\n",
       "      <th>x11</th>\n",
       "      <td>Rice (white), (1kg) (USD)</td>\n",
       "    </tr>\n",
       "    <tr>\n",
       "      <th>x12</th>\n",
       "      <td>Eggs (regular) (12) (USD)</td>\n",
       "    </tr>\n",
       "    <tr>\n",
       "      <th>x13</th>\n",
       "      <td>Local Cheese (1kg) (USD)</td>\n",
       "    </tr>\n",
       "    <tr>\n",
       "      <th>x14</th>\n",
       "      <td>Chicken Fillets (1kg) (USD)</td>\n",
       "    </tr>\n",
       "    <tr>\n",
       "      <th>x15</th>\n",
       "      <td>Beef Round (1kg) (or Equivalent Back Leg Red M...</td>\n",
       "    </tr>\n",
       "    <tr>\n",
       "      <th>x16</th>\n",
       "      <td>Apples (1kg) (USD)</td>\n",
       "    </tr>\n",
       "    <tr>\n",
       "      <th>x17</th>\n",
       "      <td>Banana (1kg) (USD)</td>\n",
       "    </tr>\n",
       "    <tr>\n",
       "      <th>x18</th>\n",
       "      <td>Oranges (1kg) (USD)</td>\n",
       "    </tr>\n",
       "    <tr>\n",
       "      <th>x19</th>\n",
       "      <td>Tomato (1kg) (USD)</td>\n",
       "    </tr>\n",
       "    <tr>\n",
       "      <th>x20</th>\n",
       "      <td>Potato (1kg) (USD)</td>\n",
       "    </tr>\n",
       "    <tr>\n",
       "      <th>x21</th>\n",
       "      <td>Onion (1kg) (USD)</td>\n",
       "    </tr>\n",
       "    <tr>\n",
       "      <th>x22</th>\n",
       "      <td>Lettuce (1 head) (USD)</td>\n",
       "    </tr>\n",
       "    <tr>\n",
       "      <th>x23</th>\n",
       "      <td>Water (1.5 liter bottle, at the market) (USD)</td>\n",
       "    </tr>\n",
       "    <tr>\n",
       "      <th>x24</th>\n",
       "      <td>Bottle of Wine (Mid-Range, at the market) (USD)</td>\n",
       "    </tr>\n",
       "    <tr>\n",
       "      <th>x25</th>\n",
       "      <td>Domestic Beer (0.5 liter bottle, at the market...</td>\n",
       "    </tr>\n",
       "    <tr>\n",
       "      <th>x26</th>\n",
       "      <td>Imported Beer (0.33 liter bottle, at the marke...</td>\n",
       "    </tr>\n",
       "    <tr>\n",
       "      <th>x27</th>\n",
       "      <td>Cigarettes 20 Pack (Marlboro) (USD)</td>\n",
       "    </tr>\n",
       "    <tr>\n",
       "      <th>x28</th>\n",
       "      <td>One-way Ticket (Local Transport) (USD)</td>\n",
       "    </tr>\n",
       "    <tr>\n",
       "      <th>x29</th>\n",
       "      <td>Monthly Pass (Regular Price) (USD)</td>\n",
       "    </tr>\n",
       "    <tr>\n",
       "      <th>x30</th>\n",
       "      <td>Taxi Start (Normal Tariff) (USD)</td>\n",
       "    </tr>\n",
       "    <tr>\n",
       "      <th>x31</th>\n",
       "      <td>Taxi 1km (Normal Tariff) (USD)</td>\n",
       "    </tr>\n",
       "    <tr>\n",
       "      <th>x32</th>\n",
       "      <td>Taxi 1hour Waiting (Normal Tariff) (USD)</td>\n",
       "    </tr>\n",
       "    <tr>\n",
       "      <th>x33</th>\n",
       "      <td>Gasoline (1 liter) (USD)</td>\n",
       "    </tr>\n",
       "    <tr>\n",
       "      <th>x34</th>\n",
       "      <td>Volkswagen Golf 1.4 90 KW Trendline (Or Equiva...</td>\n",
       "    </tr>\n",
       "    <tr>\n",
       "      <th>x35</th>\n",
       "      <td>Toyota Corolla Sedan 1.6l 97kW Comfort (Or Equ...</td>\n",
       "    </tr>\n",
       "    <tr>\n",
       "      <th>x36</th>\n",
       "      <td>Basic (Electricity, Heating, Cooling, Water, G...</td>\n",
       "    </tr>\n",
       "    <tr>\n",
       "      <th>x37</th>\n",
       "      <td>1 min. of Prepaid Mobile Tariff Local (No Disc...</td>\n",
       "    </tr>\n",
       "    <tr>\n",
       "      <th>x38</th>\n",
       "      <td>Internet (60 Mbps or More, Unlimited Data, Cab...</td>\n",
       "    </tr>\n",
       "    <tr>\n",
       "      <th>x39</th>\n",
       "      <td>Fitness Club, Monthly Fee for 1 Adult (USD)</td>\n",
       "    </tr>\n",
       "    <tr>\n",
       "      <th>x40</th>\n",
       "      <td>Tennis Court Rent (1 Hour on Weekend) (USD)</td>\n",
       "    </tr>\n",
       "    <tr>\n",
       "      <th>x41</th>\n",
       "      <td>Cinema, International Release, 1 Seat (USD)</td>\n",
       "    </tr>\n",
       "    <tr>\n",
       "      <th>x42</th>\n",
       "      <td>Preschool (or Kindergarten), Full Day, Private...</td>\n",
       "    </tr>\n",
       "    <tr>\n",
       "      <th>x43</th>\n",
       "      <td>International Primary School, Yearly for 1 Chi...</td>\n",
       "    </tr>\n",
       "    <tr>\n",
       "      <th>x44</th>\n",
       "      <td>1 Pair of Jeans (Levis 501 Or Similar) (USD)</td>\n",
       "    </tr>\n",
       "    <tr>\n",
       "      <th>x45</th>\n",
       "      <td>1 Summer Dress in a Chain Store (Zara, H&amp;M, …)...</td>\n",
       "    </tr>\n",
       "    <tr>\n",
       "      <th>x46</th>\n",
       "      <td>1 Pair of Nike Running Shoes (Mid-Range) (USD)</td>\n",
       "    </tr>\n",
       "    <tr>\n",
       "      <th>x47</th>\n",
       "      <td>1 Pair of Men Leather Business Shoes (USD)</td>\n",
       "    </tr>\n",
       "    <tr>\n",
       "      <th>x48</th>\n",
       "      <td>Apartment (1 bedroom) in City Centre (USD)</td>\n",
       "    </tr>\n",
       "    <tr>\n",
       "      <th>x49</th>\n",
       "      <td>Apartment (1 bedroom) Outside of Centre (USD)</td>\n",
       "    </tr>\n",
       "    <tr>\n",
       "      <th>x50</th>\n",
       "      <td>Apartment (3 bedrooms) in City Centre (USD)</td>\n",
       "    </tr>\n",
       "    <tr>\n",
       "      <th>x51</th>\n",
       "      <td>Apartment (3 bedrooms) Outside of Centre (USD)</td>\n",
       "    </tr>\n",
       "    <tr>\n",
       "      <th>x52</th>\n",
       "      <td>Price per Square Meter to Buy Apartment in Cit...</td>\n",
       "    </tr>\n",
       "    <tr>\n",
       "      <th>x53</th>\n",
       "      <td>Price per Square Meter to Buy Apartment Outsid...</td>\n",
       "    </tr>\n",
       "    <tr>\n",
       "      <th>x54</th>\n",
       "      <td>Average Monthly Net Salary (After Tax) (USD)</td>\n",
       "    </tr>\n",
       "    <tr>\n",
       "      <th>x55</th>\n",
       "      <td>Mortgage Interest Rate in Percentages (%), Yea...</td>\n",
       "    </tr>\n",
       "    <tr>\n",
       "      <th>data_quality</th>\n",
       "      <td>0 if Numbeo considers that more contributors a...</td>\n",
       "    </tr>\n",
       "  </tbody>\n",
       "</table>\n",
       "</div>"
      ],
      "text/plain": [
       "                                                    Description\n",
       "Column                                                         \n",
       "city                                           Name of the city\n",
       "country                                     Name of the country\n",
       "x1                           Meal, Inexpensive Restaurant (USD)\n",
       "x2            Meal for 2 People, Mid-range Restaurant, Three...\n",
       "x3            McMeal at McDonalds (or Equivalent Combo Meal)...\n",
       "x4            Domestic Beer (0.5 liter draught, in restauran...\n",
       "x5            Imported Beer (0.33 liter bottle, in restauran...\n",
       "x6                   Cappuccino (regular, in restaurants) (USD)\n",
       "x7            Coke/Pepsi (0.33 liter bottle, in restaurants)...\n",
       "x8              Water (0.33 liter bottle, in restaurants) (USD)\n",
       "x9                              Milk (regular), (1 liter) (USD)\n",
       "x10                      Loaf of Fresh White Bread (500g) (USD)\n",
       "x11                                   Rice (white), (1kg) (USD)\n",
       "x12                                   Eggs (regular) (12) (USD)\n",
       "x13                                    Local Cheese (1kg) (USD)\n",
       "x14                                 Chicken Fillets (1kg) (USD)\n",
       "x15           Beef Round (1kg) (or Equivalent Back Leg Red M...\n",
       "x16                                          Apples (1kg) (USD)\n",
       "x17                                          Banana (1kg) (USD)\n",
       "x18                                         Oranges (1kg) (USD)\n",
       "x19                                          Tomato (1kg) (USD)\n",
       "x20                                          Potato (1kg) (USD)\n",
       "x21                                           Onion (1kg) (USD)\n",
       "x22                                      Lettuce (1 head) (USD)\n",
       "x23               Water (1.5 liter bottle, at the market) (USD)\n",
       "x24             Bottle of Wine (Mid-Range, at the market) (USD)\n",
       "x25           Domestic Beer (0.5 liter bottle, at the market...\n",
       "x26           Imported Beer (0.33 liter bottle, at the marke...\n",
       "x27                         Cigarettes 20 Pack (Marlboro) (USD)\n",
       "x28                      One-way Ticket (Local Transport) (USD)\n",
       "x29                          Monthly Pass (Regular Price) (USD)\n",
       "x30                            Taxi Start (Normal Tariff) (USD)\n",
       "x31                              Taxi 1km (Normal Tariff) (USD)\n",
       "x32                    Taxi 1hour Waiting (Normal Tariff) (USD)\n",
       "x33                                    Gasoline (1 liter) (USD)\n",
       "x34           Volkswagen Golf 1.4 90 KW Trendline (Or Equiva...\n",
       "x35           Toyota Corolla Sedan 1.6l 97kW Comfort (Or Equ...\n",
       "x36           Basic (Electricity, Heating, Cooling, Water, G...\n",
       "x37           1 min. of Prepaid Mobile Tariff Local (No Disc...\n",
       "x38           Internet (60 Mbps or More, Unlimited Data, Cab...\n",
       "x39                 Fitness Club, Monthly Fee for 1 Adult (USD)\n",
       "x40                 Tennis Court Rent (1 Hour on Weekend) (USD)\n",
       "x41                 Cinema, International Release, 1 Seat (USD)\n",
       "x42           Preschool (or Kindergarten), Full Day, Private...\n",
       "x43           International Primary School, Yearly for 1 Chi...\n",
       "x44                1 Pair of Jeans (Levis 501 Or Similar) (USD)\n",
       "x45           1 Summer Dress in a Chain Store (Zara, H&M, …)...\n",
       "x46              1 Pair of Nike Running Shoes (Mid-Range) (USD)\n",
       "x47                  1 Pair of Men Leather Business Shoes (USD)\n",
       "x48                  Apartment (1 bedroom) in City Centre (USD)\n",
       "x49               Apartment (1 bedroom) Outside of Centre (USD)\n",
       "x50                 Apartment (3 bedrooms) in City Centre (USD)\n",
       "x51              Apartment (3 bedrooms) Outside of Centre (USD)\n",
       "x52           Price per Square Meter to Buy Apartment in Cit...\n",
       "x53           Price per Square Meter to Buy Apartment Outsid...\n",
       "x54                Average Monthly Net Salary (After Tax) (USD)\n",
       "x55           Mortgage Interest Rate in Percentages (%), Yea...\n",
       "data_quality  0 if Numbeo considers that more contributors a..."
      ]
     },
     "execution_count": 2,
     "metadata": {},
     "output_type": "execute_result"
    }
   ],
   "source": [
    "#To show the column header of data\n",
    "table = pd.read_csv('Table.csv', index_col=0)\n",
    "table"
   ]
  },
  {
   "cell_type": "markdown",
   "id": "bf772439",
   "metadata": {},
   "source": [
    "### 2.3 Data cleansing"
   ]
  },
  {
   "cell_type": "markdown",
   "id": "35cc6074",
   "metadata": {},
   "source": [
    "To provide a more accurate analysis, the data should be filtered. The last column in the csv file covers the data quality, the data will either be 0 or 1, the data will be 0 if Numbeo considers more contributors to the data are needed to increase data quality. \n",
    "The csv data will be filtered according to their data quality."
   ]
  },
  {
   "cell_type": "code",
   "execution_count": 3,
   "id": "d863041c",
   "metadata": {},
   "outputs": [],
   "source": [
    "#Sort data by quality as determined by numbeo\n",
    "df = pd.read_csv('Cost_of_living_v2.csv')\n",
    "dataGoodMain = df.loc[df['data_quality']==1]\n",
    "dataBadMain = df.loc[df['data_quality']==0]"
   ]
  },
  {
   "cell_type": "code",
   "execution_count": 4,
   "id": "e17d11db",
   "metadata": {},
   "outputs": [
    {
     "data": {
      "text/plain": [
       "(923, 58)"
      ]
     },
     "execution_count": 4,
     "metadata": {},
     "output_type": "execute_result"
    }
   ],
   "source": [
    "dataGoodAll = dataGoodMain\n",
    "dataGoodAll.shape\n",
    "#Number of entries with data quality of 1"
   ]
  },
  {
   "cell_type": "code",
   "execution_count": 5,
   "id": "b6db5372",
   "metadata": {},
   "outputs": [
    {
     "data": {
      "text/plain": [
       "(4033, 58)"
      ]
     },
     "execution_count": 5,
     "metadata": {},
     "output_type": "execute_result"
    }
   ],
   "source": [
    "dataBadAll = dataBadMain\n",
    "dataBadAll.shape\n",
    "#Number of entries with data quality of 0"
   ]
  },
  {
   "cell_type": "code",
   "execution_count": 6,
   "id": "7a91bb14",
   "metadata": {},
   "outputs": [],
   "source": [
    "#Remove last column of data as it is no longer required\n",
    "#dataGoodMain will be working data set and dataGoodAll will remain with all values\n",
    "dataGoodMain.drop(\"data_quality\", inplace = True, axis = 1)\n",
    "dataBadMain.drop(\"data_quality\", inplace = True, axis = 1)"
   ]
  },
  {
   "cell_type": "markdown",
   "id": "84ce19ea",
   "metadata": {},
   "source": [
    "The column data_quality is no longer necessary as the data has been sorted. Now the data consists of the city, country and only numeric values which represents different cost of living factors and the average monthly salary."
   ]
  },
  {
   "cell_type": "markdown",
   "id": "db26768e",
   "metadata": {},
   "source": [
    "dataGoodMain consists of the data with data quality of 1 which contains 923 entries as compared to the original 4494 entries. The previously large dataset has now been filtered to about 20% of its original size with more accurate data for further analysis. The main focus of analysis later will be on the 'good' quality data."
   ]
  },
  {
   "cell_type": "markdown",
   "id": "73df104b",
   "metadata": {},
   "source": [
    "#### 2.2.1 Checking for numeric data"
   ]
  },
  {
   "cell_type": "markdown",
   "id": "709b976b",
   "metadata": {},
   "source": [
    "To check if all the data in the dataset has no non-numerical data, the code below will check and print out the columns that include non-numerical data.\n",
    "The is_numeric function converts the value into float and returns True and inputs it into the applymap() function. The function checks all columns in the dataset and returns the header of the columns with a False return. This will ensure that the data we use for plotting and analysis does not contain illegal data."
   ]
  },
  {
   "cell_type": "code",
   "execution_count": 7,
   "id": "5025aca0",
   "metadata": {},
   "outputs": [
    {
     "name": "stdout",
     "output_type": "stream",
     "text": [
      "Index(['city', 'country'], dtype='object')\n"
     ]
    }
   ],
   "source": [
    "def is_numeric(value):\n",
    "    try:\n",
    "        float(value)\n",
    "        return True\n",
    "    except ValueError:\n",
    "        return False\n",
    "    \n",
    "non_numeric_columns = dataGoodMain.columns[~dataGoodMain.applymap(is_numeric).all(0)]\n",
    "\n",
    "print(non_numeric_columns)"
   ]
  },
  {
   "cell_type": "markdown",
   "id": "b1377800",
   "metadata": {},
   "source": [
    "#### 2.2.2 Check for null data"
   ]
  },
  {
   "cell_type": "markdown",
   "id": "33a6a913",
   "metadata": {},
   "source": [
    "To ensure that null data does not affect the analysis in any way, the null entries are removed. "
   ]
  },
  {
   "cell_type": "markdown",
   "id": "3b2ebeeb",
   "metadata": {},
   "source": [
    "To check for null values, the code below checks for null values in both dataGoodMain and dataBadMain. dataGoodMain represents data that has large enough contributors that Numbeo considers the data quality to be sufficient, even dataGoodMain has null values which meant that there is no data gathered even with a larger data quality. "
   ]
  },
  {
   "cell_type": "markdown",
   "id": "3506d4d0",
   "metadata": {},
   "source": [
    "##### 2.2.2.1 Most null values"
   ]
  },
  {
   "cell_type": "markdown",
   "id": "0eaf6559",
   "metadata": {},
   "source": [
    "We can determine the columns with the most number of null values with this code."
   ]
  },
  {
   "cell_type": "code",
   "execution_count": 8,
   "id": "beb83f1c",
   "metadata": {},
   "outputs": [
    {
     "data": {
      "text/plain": [
       "x40    2382\n",
       "x53    2278\n",
       "x52    2206\n",
       "x29    2153\n",
       "x43    1606\n",
       "dtype: int64"
      ]
     },
     "execution_count": 8,
     "metadata": {},
     "output_type": "execute_result"
    }
   ],
   "source": [
    "dataBadMain.isnull().sum().sort_values(ascending=False)[0:5]"
   ]
  },
  {
   "cell_type": "markdown",
   "id": "93dc80d6",
   "metadata": {},
   "source": [
    "The top 5 columns with null entries are Tennis Court Rent(1 Hour on Weekend) (USD) (x40), Price per Square Meter to Buy Apartment Outside of Centre (USD) (x53), Price per Square Meter to Buy Apartment in City Centre (USD) (x52), Monthly Pass (Regular Price) (USD) (x29) and International Primary School, Yearly for 1 Child (USD) (x43)."
   ]
  },
  {
   "cell_type": "markdown",
   "id": "dbab297a",
   "metadata": {},
   "source": [
    "Some logical reason could be that in specific countries some values are not applicable such as for x40, Tennis Court Rent(1 Hour on Weekend)(USD) or x43, International Primary School, Yearly for 1 Child(USD). Not all cities have a tennis court for rent or International primary school.\n",
    "Some possible reason for the large number of null values could be that in some cities and countries some categories might not be applicable or difficult to access.\n",
    "For example, some cities might not have a Tennis court or International Primary School, Not all cities have public transportation for the monthly pass as well.\n",
    "Similarly, there might not be any real estate for sale which cause x53 and x52 to be high in number."
   ]
  },
  {
   "cell_type": "code",
   "execution_count": 9,
   "id": "741f4ee5",
   "metadata": {},
   "outputs": [
    {
     "name": "stdout",
     "output_type": "stream",
     "text": [
      "Index(['x4', 'x5', 'x7', 'x12', 'x14', 'x19', 'x24', 'x25', 'x26', 'x27',\n",
      "       'x28', 'x29', 'x30', 'x31', 'x32', 'x34', 'x35', 'x37', 'x40', 'x41',\n",
      "       'x42', 'x43', 'x46', 'x52', 'x53', 'x54', 'x55'],\n",
      "      dtype='object')\n"
     ]
    }
   ],
   "source": [
    "null_columns = dataGoodMain.columns[dataGoodMain.isnull().any()]\n",
    "print(null_columns)"
   ]
  },
  {
   "cell_type": "code",
   "execution_count": 10,
   "id": "374bba9b",
   "metadata": {},
   "outputs": [
    {
     "name": "stdout",
     "output_type": "stream",
     "text": [
      "Index(['x1', 'x2', 'x3', 'x4', 'x5', 'x6', 'x7', 'x8', 'x9', 'x10', 'x11',\n",
      "       'x12', 'x13', 'x14', 'x15', 'x16', 'x17', 'x18', 'x19', 'x20', 'x21',\n",
      "       'x22', 'x23', 'x24', 'x25', 'x26', 'x27', 'x28', 'x29', 'x30', 'x31',\n",
      "       'x32', 'x33', 'x34', 'x35', 'x36', 'x37', 'x38', 'x39', 'x40', 'x41',\n",
      "       'x42', 'x43', 'x44', 'x45', 'x46', 'x47', 'x48', 'x49', 'x50', 'x51',\n",
      "       'x52', 'x53', 'x54', 'x55'],\n",
      "      dtype='object')\n"
     ]
    }
   ],
   "source": [
    "null_columns = dataBadMain.columns[dataBadMain.isnull().any()]\n",
    "print(null_columns)"
   ]
  },
  {
   "cell_type": "markdown",
   "id": "34cba6df",
   "metadata": {},
   "source": [
    "#### 2.2.3 Removing null values"
   ]
  },
  {
   "cell_type": "markdown",
   "id": "54d93e70",
   "metadata": {},
   "source": [
    "Null values are not helpful to the comparision between cost of living as there is no numeric value. To remove the values from the working data sets, the dropna function in pandas can be used to remove rows with null value."
   ]
  },
  {
   "cell_type": "code",
   "execution_count": 11,
   "id": "890aee85",
   "metadata": {},
   "outputs": [
    {
     "data": {
      "text/plain": [
       "(744, 57)"
      ]
     },
     "execution_count": 11,
     "metadata": {},
     "output_type": "execute_result"
    }
   ],
   "source": [
    "dataGoodMain.dropna(inplace=True)\n",
    "dataGoodMain.shape"
   ]
  },
  {
   "cell_type": "code",
   "execution_count": 12,
   "id": "9b8ab450",
   "metadata": {},
   "outputs": [
    {
     "data": {
      "text/plain": [
       "(534, 57)"
      ]
     },
     "execution_count": 12,
     "metadata": {},
     "output_type": "execute_result"
    }
   ],
   "source": [
    "dataBadMain.dropna(inplace=True)\n",
    "dataBadMain.shape"
   ]
  },
  {
   "cell_type": "markdown",
   "id": "9094ab98",
   "metadata": {},
   "source": [
    "Previously, dataGoodMain.shape has (923,58) and after removing the null rows, dataGoodMain.shape returned (744,57). The number of column decreased by 1 as the data_quality column has be dropped.\n",
    "179 rows have null entries and are removed.\n",
    "dataBadMain.shape returned (4033, 58) previously and after removing the null rows, (534,57) remain in dataBadMain."
   ]
  },
  {
   "cell_type": "markdown",
   "id": "81a13634",
   "metadata": {},
   "source": [
    "## 3. Analysis"
   ]
  },
  {
   "cell_type": "markdown",
   "id": "ac3b49cd",
   "metadata": {},
   "source": [
    "### 3.1 Pre-analysis information"
   ]
  },
  {
   "cell_type": "markdown",
   "id": "fc4c591b",
   "metadata": {},
   "source": [
    "#### 3.1.1 Data quality"
   ]
  },
  {
   "cell_type": "markdown",
   "id": "37f15d3e",
   "metadata": {},
   "source": [
    "After initial cleansing of data, we have 2 sets of data which represents the different data_quality values. Bad data quality does not necessarily mean that all the data gathered is wrong. \n",
    "We can determine the countries with the most reliable data by counting the number of cities in the country, with respect to data quality. With this information, we can learn which country's data will be the most reliable.\n",
    "However, by counting the number of cities in the dataBadMain as well, it is shown that the most reliable data country and least reliable data country is the same. "
   ]
  },
  {
   "cell_type": "code",
   "execution_count": 13,
   "id": "0737037f",
   "metadata": {},
   "outputs": [
    {
     "data": {
      "text/plain": [
       "<AxesSubplot:>"
      ]
     },
     "execution_count": 13,
     "metadata": {},
     "output_type": "execute_result"
    },
    {
     "data": {
      "image/png": "[encoded data removed]",
      "text/plain": [
       "<Figure size 640x480 with 1 Axes>"
      ]
     },
     "metadata": {},
     "output_type": "display_data"
    }
   ],
   "source": [
    "dataGoodMain[\"country\"].value_counts()[0:10].plot(kind='barh')\n",
    "#dataGoodMain plot"
   ]
  },
  {
   "cell_type": "code",
   "execution_count": 14,
   "id": "b7322d3a",
   "metadata": {},
   "outputs": [
    {
     "data": {
      "text/plain": [
       "<AxesSubplot:>"
      ]
     },
     "execution_count": 14,
     "metadata": {},
     "output_type": "execute_result"
    },
    {
     "data": {
      "image/png": "[encoded data removed]",
      "text/plain": [
       "<Figure size 640x480 with 1 Axes>"
      ]
     },
     "metadata": {},
     "output_type": "display_data"
    }
   ],
   "source": [
    "dataBadMain[\"country\"].value_counts()[0:10].plot(kind='barh')\n",
    "#dataBadMain plot"
   ]
  },
  {
   "cell_type": "markdown",
   "id": "e4e33639",
   "metadata": {},
   "source": [
    "This can be explained that the United States has the most number of entries which would make sense that the data represents both sides."
   ]
  },
  {
   "cell_type": "code",
   "execution_count": 15,
   "id": "8cd8ff3d",
   "metadata": {},
   "outputs": [
    {
     "name": "stdout",
     "output_type": "stream",
     "text": [
      "United States     82\n",
      "United Kingdom    42\n",
      "India             31\n",
      "Canada            29\n",
      "Italy             29\n",
      "Name: country, dtype: int64\n",
      "United States    48\n",
      "Mexico           28\n",
      "India            27\n",
      "Spain            21\n",
      "Italy            19\n",
      "Name: country, dtype: int64\n"
     ]
    }
   ],
   "source": [
    "dataquality1 = dataGoodMain['country'].value_counts()[0:5]\n",
    "dataquality2 = dataBadMain['country'].value_counts()[0:5]\n",
    "#Print both Highest 5 countries to show that US are on both\n",
    "print(dataquality1)\n",
    "print(dataquality2)"
   ]
  },
  {
   "cell_type": "markdown",
   "id": "9b843364",
   "metadata": {},
   "source": [
    "#### 3.1.2 Average salary (x54)"
   ]
  },
  {
   "cell_type": "markdown",
   "id": "d1a236be",
   "metadata": {},
   "source": [
    "Average salary will be the main comparision between the factors, some background knowledge regarding average salary will be useful. \n",
    "The describe function provides statistics that summarizes the central tendancy, dispersion and shape of the dataset's distribution. "
   ]
  },
  {
   "cell_type": "markdown",
   "id": "d423f498",
   "metadata": {},
   "source": [
    "The mean, or average, gives a sense of the central tendancy of the data and can be used to compare with other datasets or groups.\n",
    "The standard deviation measures the dispersion of data round the mean. If the value is large, there is a significant variability or diversity within the dataset. This could be due to outliers.\n",
    "The minimum and maximum value gives a sense of the range of the data within the dataset."
   ]
  },
  {
   "cell_type": "code",
   "execution_count": 16,
   "id": "c89741ee",
   "metadata": {},
   "outputs": [
    {
     "data": {
      "text/plain": [
       "count     744.000000\n",
       "mean     1917.940941\n",
       "std      1606.168925\n",
       "min        35.750000\n",
       "25%       532.247500\n",
       "50%      1411.830000\n",
       "75%      2977.030000\n",
       "max      7935.380000\n",
       "Name: x54, dtype: float64"
      ]
     },
     "execution_count": 16,
     "metadata": {},
     "output_type": "execute_result"
    }
   ],
   "source": [
    "x54_Mean = dataGoodMain['x54'].mean()#x54 mean = 1917.940941\n",
    "dataGoodMain['x54'].describe()"
   ]
  },
  {
   "cell_type": "markdown",
   "id": "ecb811b2",
   "metadata": {},
   "source": [
    "The city and country with the min and max value are as shown below."
   ]
  },
  {
   "cell_type": "code",
   "execution_count": 17,
   "id": "2ceb167a",
   "metadata": {},
   "outputs": [
    {
     "data": {
      "text/html": [
       "<div>\n",
       "<style scoped>\n",
       "    .dataframe tbody tr th:only-of-type {\n",
       "        vertical-align: middle;\n",
       "    }\n",
       "\n",
       "    .dataframe tbody tr th {\n",
       "        vertical-align: top;\n",
       "    }\n",
       "\n",
       "    .dataframe thead th {\n",
       "        text-align: right;\n",
       "    }\n",
       "</style>\n",
       "<table border=\"1\" class=\"dataframe\">\n",
       "  <thead>\n",
       "    <tr style=\"text-align: right;\">\n",
       "      <th></th>\n",
       "      <th>city</th>\n",
       "      <th>country</th>\n",
       "      <th>x54</th>\n",
       "    </tr>\n",
       "  </thead>\n",
       "  <tbody>\n",
       "    <tr>\n",
       "      <th>215</th>\n",
       "      <td>Havana</td>\n",
       "      <td>Cuba</td>\n",
       "      <td>35.75</td>\n",
       "    </tr>\n",
       "  </tbody>\n",
       "</table>\n",
       "</div>"
      ],
      "text/plain": [
       "       city country    x54\n",
       "215  Havana    Cuba  35.75"
      ]
     },
     "execution_count": 17,
     "metadata": {},
     "output_type": "execute_result"
    }
   ],
   "source": [
    "min_value = dataGoodMain['x54'].min()\n",
    "dataGoodMain.loc[dataGoodMain['x54']==min_value , ['city','country','x54']]"
   ]
  },
  {
   "cell_type": "code",
   "execution_count": 18,
   "id": "59926b59",
   "metadata": {},
   "outputs": [
    {
     "data": {
      "text/html": [
       "<div>\n",
       "<style scoped>\n",
       "    .dataframe tbody tr th:only-of-type {\n",
       "        vertical-align: middle;\n",
       "    }\n",
       "\n",
       "    .dataframe tbody tr th {\n",
       "        vertical-align: top;\n",
       "    }\n",
       "\n",
       "    .dataframe thead th {\n",
       "        text-align: right;\n",
       "    }\n",
       "</style>\n",
       "<table border=\"1\" class=\"dataframe\">\n",
       "  <thead>\n",
       "    <tr style=\"text-align: right;\">\n",
       "      <th></th>\n",
       "      <th>city</th>\n",
       "      <th>country</th>\n",
       "      <th>x54</th>\n",
       "    </tr>\n",
       "  </thead>\n",
       "  <tbody>\n",
       "    <tr>\n",
       "      <th>3128</th>\n",
       "      <td>Zug</td>\n",
       "      <td>Switzerland</td>\n",
       "      <td>7935.38</td>\n",
       "    </tr>\n",
       "  </tbody>\n",
       "</table>\n",
       "</div>"
      ],
      "text/plain": [
       "     city      country      x54\n",
       "3128  Zug  Switzerland  7935.38"
      ]
     },
     "execution_count": 18,
     "metadata": {},
     "output_type": "execute_result"
    }
   ],
   "source": [
    "max_value = dataGoodMain['x54'].max()\n",
    "dataGoodMain.loc[dataGoodMain['x54']==max_value , ['city','country','x54']]"
   ]
  },
  {
   "cell_type": "markdown",
   "id": "f402fc94",
   "metadata": {},
   "source": [
    "### 3.2 Data Analysis & Visualisation"
   ]
  },
  {
   "cell_type": "markdown",
   "id": "26b0a6c8",
   "metadata": {},
   "source": [
    "Following the hypothesis above, the data should show that there is a proportional relationship between the average salary and the various costs of living factors. We will be plotting graphs for Meal, Inexpensive Restaurant (USD) (x1), Meal for 2 People, Mid-range Restaurant, Three-course (USD) (x2), Basic (Electricity, Heating, Cooling, Water, Garbage) for 85m2 Apartment (USD) (x36) and Apartment (1 bedroom) in City Centre (USD) (x48) against the Average Monthly Net Salary (After Tax) (USD) (x54) \n",
    "\n",
    "As the number of entries are very large still, plotting them in a scatter plot is the most effective and readable. For the next few visualisations it will focus on the general trend of the data."
   ]
  },
  {
   "cell_type": "markdown",
   "id": "398ba481",
   "metadata": {},
   "source": [
    "#### 3.2.1 Meal, Inexpensive restaurant (x1) VS Average Salary (x54)"
   ]
  },
  {
   "cell_type": "markdown",
   "id": "1927879d",
   "metadata": {},
   "source": [
    "By calculating the mean of the entries of (x1), we know the central tendancy of a meal at an inexpensive restaurant. A mean cost of 10.715(3.sf) compared to the mean salary of 1917.941(3.sf). The mean cost of a meal is significantly lower than the average monthly salary which suggest that meals are relatively affordable and may not be a significant financial burden on individuals and households.  "
   ]
  },
  {
   "cell_type": "code",
   "execution_count": 19,
   "id": "f7732375",
   "metadata": {},
   "outputs": [
    {
     "data": {
      "text/plain": [
       "10.71512096774196"
      ]
     },
     "execution_count": 19,
     "metadata": {},
     "output_type": "execute_result"
    }
   ],
   "source": [
    "x1_Mean = dataGoodMain['x1'].mean() \n",
    "x1_Mean #x1 mean = 10.71512096774196"
   ]
  },
  {
   "cell_type": "markdown",
   "id": "48368afc",
   "metadata": {},
   "source": [
    "To better understand the data and trend, we use a scatter graph to see the general trend of the data. "
   ]
  },
  {
   "cell_type": "code",
   "execution_count": 20,
   "id": "18c45b7b",
   "metadata": {},
   "outputs": [
    {
     "data": {
      "image/png": "[encoded data removed]",
      "text/plain": [
       "<Figure size 640x480 with 1 Axes>"
      ]
     },
     "metadata": {},
     "output_type": "display_data"
    }
   ],
   "source": [
    "#Code to plot graph\n",
    "dataGoodMain.plot(kind='scatter', x = 'x1',y = 'x54')\n",
    "plt.xlabel('Meal, Inexpensive restaurant')\n",
    "plt.ylabel('Average Salary')\n",
    "plt.show()"
   ]
  },
  {
   "cell_type": "markdown",
   "id": "32be5280",
   "metadata": {},
   "source": [
    "The data trends proportionally, which means that as the average monthly salary increase, the price of a meal at an inexpensive restaurant increases as well."
   ]
  },
  {
   "cell_type": "markdown",
   "id": "8c84e287",
   "metadata": {},
   "source": [
    "#### 3.2.2 Meal for 2, Mid-range Restaurant (x2) VS Average Salary (x54)"
   ]
  },
  {
   "cell_type": "markdown",
   "id": "f7c094bb",
   "metadata": {},
   "source": [
    "(x2) has a mean cost of 48.899(3.sf) compared to the mean salary of 1917.941(3.sf). The mean cost of a meal is still lower than the average monthly salary which suggest that meals are relatively affordable and may not be a financial burden on individuals and households. \n",
    "\n",
    "We can also compare the mean difference between (x1) and (x2), as (x2) is a meal for 2, we can divide the mean by 2 for a fair comparision with (x1). With the difference between (x1) and (x2) we know that a meal at a mid-range restaurant is on average more than twice as expensive than at an inexpensive restaurant."
   ]
  },
  {
   "cell_type": "code",
   "execution_count": 21,
   "id": "c2d0da16",
   "metadata": {},
   "outputs": [
    {
     "data": {
      "text/plain": [
       "13.734220430107488"
      ]
     },
     "execution_count": 21,
     "metadata": {},
     "output_type": "execute_result"
    }
   ],
   "source": [
    "x2_Mean = dataGoodMain['x2'].mean() #x2 mean = 48.898682795698896\n",
    "x2_ForOne = x2_Mean/2 #x2 mean/2 = 24.449341397849448\n",
    "diff_Mean = x2_ForOne - x1_Mean\n",
    "diff_Mean # diff = 13.734220430107488"
   ]
  },
  {
   "cell_type": "markdown",
   "id": "d3ece119",
   "metadata": {},
   "source": [
    "Plotting of scatter graph to ensure that the trend continues."
   ]
  },
  {
   "cell_type": "code",
   "execution_count": 22,
   "id": "2ff86140",
   "metadata": {
    "scrolled": false
   },
   "outputs": [
    {
     "data": {
      "image/png": "[encoded data removed]",
      "text/plain": [
       "<Figure size 640x480 with 1 Axes>"
      ]
     },
     "metadata": {},
     "output_type": "display_data"
    }
   ],
   "source": [
    "#Code to plot graph\n",
    "dataGoodMain.plot(kind='scatter', x = 'x2',y = 'x54')\n",
    "plt.xlabel('Meal for 2, Mid-range Restaurant')\n",
    "plt.ylabel('Average Salary')\n",
    "plt.show()"
   ]
  },
  {
   "cell_type": "markdown",
   "id": "59fc3ac5",
   "metadata": {},
   "source": [
    "The data value increases proportionally. With a higher average salary, the higher cost of meal for 2 at a Mid-range restaurant."
   ]
  },
  {
   "cell_type": "markdown",
   "id": "2becc4bd",
   "metadata": {},
   "source": [
    "#### 3.2.3 Apartment (1 bedroom) in City Centre (x48) VS Average Salary (x54)"
   ]
  },
  {
   "cell_type": "markdown",
   "id": "ecf9f934",
   "metadata": {},
   "source": [
    "(x48) has a mean cost of 804.993(3.sf) compared to the average salary mean of 1917.941(3.sf). The average 1 bedroom apartment when compared to the average monthly salary is almost 42% of the entire monthly salary. This means that the average individual spends almost 42% on rent and the remaining 58% will be leftover for other expenses."
   ]
  },
  {
   "cell_type": "code",
   "execution_count": 23,
   "id": "29979368",
   "metadata": {},
   "outputs": [
    {
     "name": "stdout",
     "output_type": "stream",
     "text": [
      "41.97171549467612\n"
     ]
    }
   ],
   "source": [
    "x48_Mean = dataGoodMain['x48'].mean() \n",
    "x48_Mean #x48 mean = 804.9927150537643\n",
    "\n",
    "percentage = (x48_Mean/x54_Mean)*100 #Find what percentage is x48 of x54\n",
    "print(percentage) #41.97171549467612"
   ]
  },
  {
   "cell_type": "markdown",
   "id": "7c714af8",
   "metadata": {},
   "source": [
    "Plotting of scatter graph to ensure trend continues"
   ]
  },
  {
   "cell_type": "code",
   "execution_count": 24,
   "id": "ddc58d64",
   "metadata": {},
   "outputs": [
    {
     "data": {
      "image/png": "[encoded data removed]",
      "text/plain": [
       "<Figure size 640x480 with 1 Axes>"
      ]
     },
     "metadata": {},
     "output_type": "display_data"
    }
   ],
   "source": [
    "#Code to plot graph\n",
    "dataGoodMain.plot(kind='scatter', x = 'x48',y = 'x54')\n",
    "plt.xlabel('Apartment (1 bedroom) in City Centre')\n",
    "plt.ylabel('Average Salary')\n",
    "plt.show()"
   ]
  },
  {
   "cell_type": "markdown",
   "id": "777a6b48",
   "metadata": {},
   "source": [
    "The data value increases proportionally. The higher the salary, the higher the cost of an apartment."
   ]
  },
  {
   "cell_type": "markdown",
   "id": "9f98f34b",
   "metadata": {},
   "source": [
    "#### 3.2.4 Basic (Electricty,etc) (x36) VS Average Salary (x54)"
   ]
  },
  {
   "cell_type": "markdown",
   "id": "d2af21dc",
   "metadata": {},
   "source": [
    "(x36) has a mean cost of 142.753(3.sf) compared to the mean monthly salary of 1917.941(3.sf). When compared in terms of percentage, basic is about 7.5% of the average monthly salary. "
   ]
  },
  {
   "cell_type": "code",
   "execution_count": 25,
   "id": "c0943c93",
   "metadata": {},
   "outputs": [
    {
     "name": "stdout",
     "output_type": "stream",
     "text": [
      "7.443010224212363\n"
     ]
    }
   ],
   "source": [
    "x36_Mean = dataGoodMain['x36'].mean() \n",
    "x36_Mean #x36 mean = 142.7525403225807\n",
    "\n",
    "percentage1 = (x36_Mean/x54_Mean)*100 #Find what percentage is x36 of x54\n",
    "print(percentage1) #7.443010224212363"
   ]
  },
  {
   "cell_type": "code",
   "execution_count": 26,
   "id": "51109caf",
   "metadata": {},
   "outputs": [
    {
     "data": {
      "image/png": "[encoded data removed]",
      "text/plain": [
       "<Figure size 640x480 with 1 Axes>"
      ]
     },
     "metadata": {},
     "output_type": "display_data"
    }
   ],
   "source": [
    "#Code to plot graph\n",
    "dataGoodMain.plot(kind='scatter', x = 'x36',y = 'x54')\n",
    "plt.xlabel('Basic (Electricity, Heating, Cooling, Water, Garbage) for 85m2 Apartment (USD)')\n",
    "plt.ylabel('Average Salary')\n",
    "plt.show()"
   ]
  },
  {
   "cell_type": "markdown",
   "id": "258bf75b",
   "metadata": {},
   "source": [
    "The data value increase proportionally. The higher the salary, the higher the cost of basics."
   ]
  },
  {
   "cell_type": "markdown",
   "id": "5cc8274a",
   "metadata": {},
   "source": [
    "### 3.3 Cost of living"
   ]
  },
  {
   "cell_type": "markdown",
   "id": "ed2ff490",
   "metadata": {},
   "source": [
    "#### 3.3.1 Determine comparision"
   ]
  },
  {
   "cell_type": "markdown",
   "id": "4e2e0f08",
   "metadata": {},
   "source": [
    "After understanding that the cost of living of various factors are proportional to the average monthly salary, we can perform further analysis of the data to provide find out the cities/countries with the lowest and highest cost of living. \n",
    "\n",
    "To determine a baseline for the cost of living in regards to the monthly salary, we use the average monthly salary and minus the basics, 1 room apartment, and meal at an inexpensive restaurant. Based on the columns (x54)-(x48)-(x1)*60. By multiplying the meal cost by 60 we can simulate the cost of 2 meals a day in a month.\n",
    "\n",
    "This formula for calculation does not represent the actual cost of living as each individual can choose the method to spend their money. For example, less money would be spent if the day to day meals are homecooked, instead of eating out at an inexpensive restaurant. "
   ]
  },
  {
   "cell_type": "code",
   "execution_count": 27,
   "id": "622ef872",
   "metadata": {},
   "outputs": [
    {
     "data": {
      "text/plain": [
       "count     744.000000\n",
       "mean      327.288427\n",
       "std       907.669797\n",
       "min     -5488.660000\n",
       "25%      -251.452500\n",
       "50%        34.650000\n",
       "75%       824.167500\n",
       "max      3649.170000\n",
       "Name: disposable_income, dtype: float64"
      ]
     },
     "execution_count": 27,
     "metadata": {},
     "output_type": "execute_result"
    }
   ],
   "source": [
    "#calculate the cost of living\n",
    "def calculate_cost(row):\n",
    "    return row['x54'] - row['x48'] - row['x36'] - row['x1']*60\n",
    "\n",
    "dataCost = dataGoodMain\n",
    "#add a new column called disposable_income\n",
    "dataCost['disposable_income'] = dataCost.apply(calculate_cost,axis=1)\n",
    "dataCost['disposable_income'].describe()"
   ]
  },
  {
   "cell_type": "markdown",
   "id": "e21e11d9",
   "metadata": {},
   "source": [
    "Based on the describe function, we find out that the average 'disposable income' is 327.288(3.sf), with a large standard deviation which means the values are more dispersed. There are cities that if they spend their monthly salary on the average cost of living, they will be in the negatives and some that will have a significant amount of 'disposable income' leftover. \n"
   ]
  },
  {
   "cell_type": "markdown",
   "id": "6031b91d",
   "metadata": {},
   "source": [
    "#### 3.3.2 Visualisation"
   ]
  },
  {
   "cell_type": "markdown",
   "id": "95f37038",
   "metadata": {},
   "source": [
    "We can visual the spread of the data using a bar graph as we only have one data to compare. The graph shows the number of cities with positive 'disposable income' in green and negative in red."
   ]
  },
  {
   "cell_type": "code",
   "execution_count": 28,
   "id": "313359ae",
   "metadata": {},
   "outputs": [
    {
     "data": {
      "image/png": "[encoded data removed]",
      "text/plain": [
       "<Figure size 640x480 with 1 Axes>"
      ]
     },
     "metadata": {},
     "output_type": "display_data"
    }
   ],
   "source": [
    "#Code to plot graph\n",
    "#Negative values are red and positive are green\n",
    "colors = ['r' if value<0 else 'g' for value in dataCost['disposable_income']]\n",
    "dataCost.plot(kind='bar', x = 'city',y = 'disposable_income',color = colors,legend=False)\n",
    "plt.xticks([]) #hide the x axis ticks as there are too many\n",
    "plt.xlabel('Cities')\n",
    "plt.ylabel('\"Disposable Income\"')\n",
    "plt.show()"
   ]
  },
  {
   "cell_type": "markdown",
   "id": "ce314878",
   "metadata": {},
   "source": [
    "For additional information, we can determine the city and country with the highest and lowest cost of living in regards to monthly salary.\n",
    "\n",
    "To find out which country has the highest cost of living in regards to the monthly salary, we can use the nsmallest() function and create a table. "
   ]
  },
  {
   "cell_type": "code",
   "execution_count": 29,
   "id": "1ee6f968",
   "metadata": {},
   "outputs": [
    {
     "data": {
      "text/html": [
       "<div>\n",
       "<style scoped>\n",
       "    .dataframe tbody tr th:only-of-type {\n",
       "        vertical-align: middle;\n",
       "    }\n",
       "\n",
       "    .dataframe tbody tr th {\n",
       "        vertical-align: top;\n",
       "    }\n",
       "\n",
       "    .dataframe thead th {\n",
       "        text-align: right;\n",
       "    }\n",
       "</style>\n",
       "<table border=\"1\" class=\"dataframe\">\n",
       "  <thead>\n",
       "    <tr style=\"text-align: right;\">\n",
       "      <th></th>\n",
       "      <th>city</th>\n",
       "      <th>country</th>\n",
       "      <th>disposable_income</th>\n",
       "    </tr>\n",
       "  </thead>\n",
       "  <tbody>\n",
       "    <tr>\n",
       "      <th>347</th>\n",
       "      <td>Sharjah</td>\n",
       "      <td>United Arab Emirates</td>\n",
       "      <td>-5488.66</td>\n",
       "    </tr>\n",
       "    <tr>\n",
       "      <th>509</th>\n",
       "      <td>Port Moresby</td>\n",
       "      <td>Papua New Guinea</td>\n",
       "      <td>-2457.76</td>\n",
       "    </tr>\n",
       "    <tr>\n",
       "      <th>350</th>\n",
       "      <td>Abuja</td>\n",
       "      <td>Nigeria</td>\n",
       "      <td>-2272.39</td>\n",
       "    </tr>\n",
       "    <tr>\n",
       "      <th>2742</th>\n",
       "      <td>Walton upon Thames</td>\n",
       "      <td>United Kingdom</td>\n",
       "      <td>-2126.56</td>\n",
       "    </tr>\n",
       "    <tr>\n",
       "      <th>365</th>\n",
       "      <td>Maputo</td>\n",
       "      <td>Mozambique</td>\n",
       "      <td>-1792.31</td>\n",
       "    </tr>\n",
       "  </tbody>\n",
       "</table>\n",
       "</div>"
      ],
      "text/plain": [
       "                    city               country  disposable_income\n",
       "347              Sharjah  United Arab Emirates           -5488.66\n",
       "509         Port Moresby      Papua New Guinea           -2457.76\n",
       "350                Abuja               Nigeria           -2272.39\n",
       "2742  Walton upon Thames        United Kingdom           -2126.56\n",
       "365               Maputo            Mozambique           -1792.31"
      ]
     },
     "execution_count": 29,
     "metadata": {},
     "output_type": "execute_result"
    }
   ],
   "source": [
    "top_countries = dataCost.nsmallest(5,'disposable_income')\n",
    "top_countries[['city','country','disposable_income']]"
   ]
  },
  {
   "cell_type": "markdown",
   "id": "1fcf28d2",
   "metadata": {},
   "source": [
    "Similarly, we can also find out which country has the lowest cost of living in regards to the monthly salary with the same method."
   ]
  },
  {
   "cell_type": "code",
   "execution_count": 30,
   "id": "8e4d0c31",
   "metadata": {},
   "outputs": [
    {
     "data": {
      "text/html": [
       "<div>\n",
       "<style scoped>\n",
       "    .dataframe tbody tr th:only-of-type {\n",
       "        vertical-align: middle;\n",
       "    }\n",
       "\n",
       "    .dataframe tbody tr th {\n",
       "        vertical-align: top;\n",
       "    }\n",
       "\n",
       "    .dataframe thead th {\n",
       "        text-align: right;\n",
       "    }\n",
       "</style>\n",
       "<table border=\"1\" class=\"dataframe\">\n",
       "  <thead>\n",
       "    <tr style=\"text-align: right;\">\n",
       "      <th></th>\n",
       "      <th>city</th>\n",
       "      <th>country</th>\n",
       "      <th>disposable_income</th>\n",
       "    </tr>\n",
       "  </thead>\n",
       "  <tbody>\n",
       "    <tr>\n",
       "      <th>3128</th>\n",
       "      <td>Zug</td>\n",
       "      <td>Switzerland</td>\n",
       "      <td>3649.17</td>\n",
       "    </tr>\n",
       "    <tr>\n",
       "      <th>2057</th>\n",
       "      <td>Bellevue</td>\n",
       "      <td>United States</td>\n",
       "      <td>3331.79</td>\n",
       "    </tr>\n",
       "    <tr>\n",
       "      <th>515</th>\n",
       "      <td>Bern</td>\n",
       "      <td>Switzerland</td>\n",
       "      <td>3013.92</td>\n",
       "    </tr>\n",
       "    <tr>\n",
       "      <th>272</th>\n",
       "      <td>San Jose</td>\n",
       "      <td>United States</td>\n",
       "      <td>2998.48</td>\n",
       "    </tr>\n",
       "    <tr>\n",
       "      <th>714</th>\n",
       "      <td>Tulsa</td>\n",
       "      <td>United States</td>\n",
       "      <td>2977.73</td>\n",
       "    </tr>\n",
       "  </tbody>\n",
       "</table>\n",
       "</div>"
      ],
      "text/plain": [
       "          city        country  disposable_income\n",
       "3128       Zug    Switzerland            3649.17\n",
       "2057  Bellevue  United States            3331.79\n",
       "515       Bern    Switzerland            3013.92\n",
       "272   San Jose  United States            2998.48\n",
       "714      Tulsa  United States            2977.73"
      ]
     },
     "execution_count": 30,
     "metadata": {},
     "output_type": "execute_result"
    }
   ],
   "source": [
    "top_countries = dataCost.nlargest(5,'disposable_income')\n",
    "top_countries[['city','country','disposable_income']]"
   ]
  },
  {
   "cell_type": "markdown",
   "id": "22fb8c31",
   "metadata": {},
   "source": [
    "We find out that Sharjah has an average 'disposable income' of -5488.66\n",
    "and on the other end of the spectrum, Zug has an average of 3649.17."
   ]
  },
  {
   "cell_type": "markdown",
   "id": "353232bb",
   "metadata": {},
   "source": [
    "##### 3.3.2.1 Ethical statement"
   ]
  },
  {
   "cell_type": "markdown",
   "id": "aa08f31c",
   "metadata": {},
   "source": [
    "The data showing the country and city with the lowest calculated 'disposable income' is not the actual disposable income amount and a calculated value which is an average of few selected fixed values. The information of lowest 'disposable income' is not meant for any discriminatory actions or cause harm, as the study is on averages and there is a large disparity between the data."
   ]
  },
  {
   "cell_type": "markdown",
   "id": "08b6342d",
   "metadata": {},
   "source": [
    "## 4. Conclusion & Critical Evaluation"
   ]
  },
  {
   "cell_type": "markdown",
   "id": "e1a69f94",
   "metadata": {},
   "source": [
    "### 4.1 Conclusion"
   ]
  },
  {
   "cell_type": "markdown",
   "id": "6d97e3e2",
   "metadata": {},
   "source": [
    "As written in the hypothesis, the cost of living in an area is proportional to the average monthly salary. This is because the the average monthly salary has to be able to afford the basic needs such as food, shelter and basic necessities. "
   ]
  },
  {
   "cell_type": "markdown",
   "id": "125f5065",
   "metadata": {},
   "source": [
    "### 4.2 Critical evaluation"
   ]
  },
  {
   "cell_type": "markdown",
   "id": "b7581880",
   "metadata": {},
   "source": [
    "The data and analysis used in this report is very broad as the data is large and not very specific. The analysis covers purely the average costs and might not be applicable to the extreme outliers in analysis.\n",
    "\n",
    "The values used to compare the cost of living to monthly salary is the average value and it is important to note that there can be exceptions to this case. Not all data will follow the trend and have proportional cost of living to monthly salary. It is possible that there are cases with low monthly salary and high cost of living and vice-versa."
   ]
  },
  {
   "cell_type": "markdown",
   "id": "ac804752",
   "metadata": {},
   "source": [
    "## 5. Ethical Statement"
   ]
  },
  {
   "cell_type": "markdown",
   "id": "5431c1b3",
   "metadata": {},
   "source": [
    "### 5.1 Use/reuse of data and derived data"
   ]
  },
  {
   "cell_type": "markdown",
   "id": "81d65dbe",
   "metadata": {},
   "source": [
    "All of the data from this study is from Numbeo and free to use.\n",
    "\n",
    "According to Numbeo's terms of use, licensing of content states that:\n",
    "\n",
    "\"Use, reuse, and distribution of Numbeo's content in newspapers, journals, books, radio broadcasting, TV broadcasting, and academic usages (such as thesis and journal articles) are allowed under this or other licenses, under the term that if you reuse our data, you must give appropriate credit. Appropriate credit is a link back to Numbeo.com or a reference format in journal articles and books.\"\n",
    "\n",
    "The data is all free of use and public so no anonymisation is required. The analysis and conclusions reached are my own."
   ]
  },
  {
   "cell_type": "markdown",
   "id": "d6c48fc9",
   "metadata": {},
   "source": [
    "### 5.2 Potential bias\n",
    "The number of entries for US is significantly more than the rest of the countries. The average in the data analysis will be skewed towards the average of US data. When working with the data, the average of all entries have been used and not specifically entries for US."
   ]
  },
  {
   "cell_type": "code",
   "execution_count": 31,
   "id": "c8fede63",
   "metadata": {},
   "outputs": [
    {
     "data": {
      "text/plain": [
       "United States     1073\n",
       "Italy              186\n",
       "India              167\n",
       "Brazil             164\n",
       "United Kingdom     160\n",
       "Name: country, dtype: int64"
      ]
     },
     "execution_count": 31,
     "metadata": {},
     "output_type": "execute_result"
    }
   ],
   "source": [
    "df['country'].value_counts()[0:5]"
   ]
  },
  {
   "cell_type": "markdown",
   "id": "d43053fa",
   "metadata": {},
   "source": [
    "### 5.3 Potential impacts\n",
    "I believe that the data utilised have no/minimal potential to harm. The data used is mostly numerical and used purely for the data analysis.\n"
   ]
  },
  {
   "cell_type": "markdown",
   "id": "87092125",
   "metadata": {},
   "source": [
    "# 6 References & Resources used"
   ]
  },
  {
   "cell_type": "markdown",
   "id": "9bc0ddcf",
   "metadata": {},
   "source": [
    "Cost of living (no date) Cost of Living. Available at: https://www.numbeo.com/cost-of-living/ (Accessed: January 1, 2023).\n",
    "\n",
    "Piedade, M. (2022) Global cost of living, Kaggle. Available at: https://www.kaggle.com/datasets/mvieira101/global-cost-of-living (Accessed: January 1, 2023).\n",
    "\n",
    "Zinovei, A. (2019) Average monthly salary after taxes by country, Kaggle. Available at: https://www.kaggle.com/datasets/zinovadr/average-monthly-salary-after-taxes-by-country?select=After%2Btax%2Bplus%2Byear%2Bgross.csv (Accessed: January 1, 2023). \n",
    "\n",
    "Hore, A. (2022) Cost of living index 2022, Kaggle. Available at: https://www.kaggle.com/datasets/ankanhore545/cost-of-living-index-2022 (Accessed: January 1, 2023). \n",
    "\n",
    "DataFrame# (no date) DataFrame - pandas 1.5.2 documentation. Available at: https://pandas.pydata.org/docs/reference/frame.html (Accessed: January 1, 2023). "
   ]
  }
 ],
 "metadata": {
  "kernelspec": {
   "display_name": "Python 3 (ipykernel)",
   "language": "python",
   "name": "python3"
  },
  "language_info": {
   "codemirror_mode": {
    "name": "ipython",
    "version": 3
   },
   "file_extension": ".py",
   "mimetype": "text/x-python",
   "name": "python",
   "nbconvert_exporter": "python",
   "pygments_lexer": "ipython3",
   "version": "3.9.13"
  }
 },
 "nbformat": 4,
 "nbformat_minor": 5
}
